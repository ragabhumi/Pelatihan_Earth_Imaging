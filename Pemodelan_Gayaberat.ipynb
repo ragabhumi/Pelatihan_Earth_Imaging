{
  "cells": [
    {
      "cell_type": "markdown",
      "metadata": {
        "id": "view-in-github",
        "colab_type": "text"
      },
      "source": [
        "<a href=\"https://colab.research.google.com/github/ragabhumi/Pelatihan_Earth_Imaging/blob/main/Pemodelan_Gayaberat.ipynb\" target=\"_parent\"><img src=\"https://colab.research.google.com/assets/colab-badge.svg\" alt=\"Open In Colab\"/></a>"
      ]
    },
    {
      "cell_type": "markdown",
      "metadata": {
        "id": "luHqmSv_UwT6"
      },
      "source": [
        "# **Pengolahan Data Gayaberat Global (Satelit)**\n",
        "**Pelatihan Teknis Earth Imaging**\n",
        "\n",
        "Bogor, 15 Juni 2023\n",
        "\n",
        "Oleh: Fildzah Zainati Fadhilah & Yosi Setiawan\n",
        "\n",
        "---\n",
        "\n"
      ]
    },
    {
      "cell_type": "markdown",
      "metadata": {
        "id": "v9eoSR-qqBZ1"
      },
      "source": [
        "Pada bagian ini akan diuraikan pengolahan gayaberat menggunakan software  Fatiando a Terra (Uieda et.al., 2013) untuk analisis data gayaberat dan PyGMT (Uieda et.al., 2023) untuk visualisasi. Kedua software tersebut berbasis Python.\n",
        "\n"
      ]
    },
    {
      "cell_type": "markdown",
      "source": [
        "Data yang digunakan adalah data gayaberat global GGMPlus.\n",
        "Data GGMPlus dapat diunduh [disini](https://murray-lab.caltech.edu/GGMplus/index.html) dengan memilih tipe data **gravity** (free air anomaly) dan memasukkan koordinat batas area kajian. Penjelasan setiap tipe data dapat dilihat pada laman [berikut](http://ddfe.curtin.edu.au/gravitymodels/GGMplus/GGMplus_readme.dat). Data topografi dapat diunduh pada link [berikut](https://bgi.obs-mip.fr/data-products/grids-and-models/modele-global-ggmplus2013/). Namun, pada modul ini, data GGMPlus yang akan diolah sudah disiapkan pada Github. Berikut dijelaskan tahap-tahap pengolahan data gayaberat:"
      ],
      "metadata": {
        "id": "mvABUdDHAojD"
      }
    },
    {
      "cell_type": "markdown",
      "metadata": {
        "id": "sWl9Bk_eUhxf"
      },
      "source": [
        "## **Persiapan Perangkat Lunak Pengolahan**\n",
        "\n",
        "---\n",
        "\n"
      ]
    },
    {
      "cell_type": "markdown",
      "metadata": {
        "id": "znSoC0uhqJtn"
      },
      "source": [
        "1. Salin file Jupyter Notebook ini dengan klik tombol **Copy to Drive** agar dapat memodifikasi dan menyimpan perubahan-perubahan yang dilakukan. Pada setiap cell kode, terdapat tombol *Run cell* di sebelah kiri setiap cell. Ikuti perintah dengan klik tombol *Run cell* secara berurutan."
      ]
    },
    {
      "cell_type": "markdown",
      "metadata": {
        "id": "8gfeTQMdqO6N"
      },
      "source": [
        "2. Install CondaColab di Google Colab di akun Google masing-masing. Pada setiap cell kode, terdapat tombol *Run cell* di sebelah kiri *cell*. Ikuti perintah dengan klik tombol *Run cell* secara berurutan. Tunggu hingga proses instalasi selesai. Jika muncul notifikasi *Your session crashed for an unknown reason*, abaikan dan tutup notifikasi tersebut."
      ]
    },
    {
      "cell_type": "code",
      "execution_count": null,
      "metadata": {
        "id": "kxl53z5IUrJF"
      },
      "outputs": [],
      "source": [
        "!pip install -q condacolab\n",
        "import condacolab\n",
        "condacolab.install()"
      ]
    },
    {
      "cell_type": "markdown",
      "metadata": {
        "id": "uKXiIsbyVNpH"
      },
      "source": [
        "3. Cek apakah instalasi CondaColab berhasil. Jika berhasil maka akan muncul *Everything looks OK!*"
      ]
    },
    {
      "cell_type": "code",
      "execution_count": null,
      "metadata": {
        "id": "uLxXWx_6VWjb"
      },
      "outputs": [],
      "source": [
        "import condacolab\n",
        "condacolab.check()"
      ]
    },
    {
      "cell_type": "markdown",
      "metadata": {
        "id": "qTrcsRJQVaSs"
      },
      "source": [
        "4. Instal modul-modul Python yang diperlukan. Tunggu hingga proses selesai."
      ]
    },
    {
      "cell_type": "code",
      "execution_count": null,
      "metadata": {
        "id": "q_JnP7qLVdii"
      },
      "outputs": [],
      "source": [
        "!mamba install verde harmonica boule pooch pygmt pyproj pandas xarray"
      ]
    },
    {
      "cell_type": "markdown",
      "metadata": {
        "id": "M1a6ZE0HaTO9"
      },
      "source": [
        "5. Import modul-modul Python yang akan digunakan"
      ]
    },
    {
      "cell_type": "code",
      "execution_count": null,
      "metadata": {
        "id": "Y-K9StAEaVcj"
      },
      "outputs": [],
      "source": [
        "# The standard Python science stack\n",
        "import numpy as np\n",
        "import pandas as pd\n",
        "import xarray as xr\n",
        "\n",
        "# For projections (wrapped for Proj)\n",
        "import pyproj\n",
        "\n",
        "# Plotting maps using GMT\n",
        "import pygmt\n",
        "\n",
        "# The Fatiando stack\n",
        "import pooch\n",
        "import verde as vd\n",
        "import boule as bl\n",
        "import harmonica as hm"
      ]
    },
    {
      "cell_type": "markdown",
      "metadata": {
        "id": "WnaNFrOBt0av"
      },
      "source": [
        "## **Persiapan Data**\n",
        "\n",
        "---\n",
        "\n"
      ]
    },
    {
      "cell_type": "markdown",
      "metadata": {
        "id": "Zq8FJo9gabyt"
      },
      "source": [
        "1. Data gayaberat dan topografi dari GGMPlus yang digunakan dalam modul ini telah diupload di Github. Untuk mengunduhnya kita gunakan modul Pooch."
      ]
    },
    {
      "cell_type": "code",
      "execution_count": null,
      "metadata": {
        "id": "FSgmeE4pChk3"
      },
      "outputs": [],
      "source": [
        "url_grav = \"https://github.com/ragabhumi/Pelatihan_Earth_Imaging/raw/main/data_gravity/GGMPlus_Gravity_96_97_4_5.csv\"\n",
        "md5_grav = \"md5:cc3238dec6eb3f60bb017eabf66ae1a3\"\n",
        "path_grav = pooch.retrieve(url_grav, known_hash=md5_grav)\n",
        "print(path_grav)\n",
        "\n",
        "url_topo = \"https://github.com/ragabhumi/Pelatihan_Earth_Imaging/raw/main/data_gravity/ERTM_96_97_4_5.grd\"\n",
        "md5_topo = \"md5:ac76092d84f68ce102cc055061ebcbdf\"\n",
        "path_topo = pooch.retrieve(url_topo, known_hash=md5_topo)\n",
        "print(path_topo)"
      ]
    },
    {
      "cell_type": "markdown",
      "metadata": {
        "id": "ILooHrxtEkDX"
      },
      "source": [
        "2. Cek data gayaberat yang telah diimport dalam format txt/csv. Kolom FAA yang bernilai NaN menunjukkan bahwa pada lokasi tersebut adalah wilayah laut. Namun pada modul ini, nilai anomali NaN akan dihapus agar dapat diproses pada saat pembentukan trend pemisahan anomali regional-residual."
      ]
    },
    {
      "cell_type": "code",
      "execution_count": null,
      "metadata": {
        "id": "_DJ8y4ZMEa5g"
      },
      "outputs": [],
      "source": [
        "data = pd.read_csv(path_grav,names=['longitude','latitude','FAA']).dropna()\n",
        "data"
      ]
    },
    {
      "cell_type": "markdown",
      "metadata": {
        "id": "8etUCaCpEIxg"
      },
      "source": [
        "3. Cek data topografi yang berformat netCDF."
      ]
    },
    {
      "cell_type": "code",
      "execution_count": null,
      "metadata": {
        "id": "C-GSAgQyGPfn"
      },
      "outputs": [],
      "source": [
        "topography = xr.load_dataarray(path_topo)\n",
        "topography"
      ]
    },
    {
      "cell_type": "markdown",
      "metadata": {
        "id": "hPfDvgAocb99"
      },
      "source": [
        " 4. Pada data satelit, tidak terdapat data elevasi pada setiap titik, sehingga perlu mengekstrak nilai ketinggian dari data grid topografi."
      ]
    },
    {
      "cell_type": "code",
      "execution_count": null,
      "metadata": {
        "id": "NUVlZYwzdaS9"
      },
      "outputs": [],
      "source": [
        "data = pygmt.grdtrack(grid=topography, points=data, newcolname='elevation')\n",
        "data"
      ]
    },
    {
      "cell_type": "markdown",
      "metadata": {
        "id": "qzhC0ZxAHAoi"
      },
      "source": [
        "5. Plot data gayaberat dan topografi."
      ]
    },
    {
      "cell_type": "code",
      "execution_count": null,
      "metadata": {
        "id": "7q3jipGdGSxn"
      },
      "outputs": [],
      "source": [
        "fig = pygmt.Figure()\n",
        "pygmt.makecpt(cmap=\"seis\", series=[data.FAA.min(), data.FAA.max()])\n",
        "fig.plot(\n",
        "    x=data.longitude,\n",
        "    y=data.latitude,\n",
        "    color=data.FAA,\n",
        "    cmap=True,\n",
        "    style=\"c4p\",\n",
        "    projection=\"M15c\",\n",
        "    frame=True,\n",
        ")\n",
        "fig.coast(resolution='f',shorelines='1p')\n",
        "fig.colorbar(frame='af+l\"FAA [mGal]\"')\n",
        "fig.show()"
      ]
    },
    {
      "cell_type": "code",
      "execution_count": null,
      "metadata": {
        "id": "PisALk0yGn7z"
      },
      "outputs": [],
      "source": [
        "fig = pygmt.Figure()\n",
        "pygmt.makecpt(cmap=\"earth\", series=[topography.values.min(), topography.values.max()])\n",
        "fig.grdimage(topography, shading=True, projection=\"M15c\", frame=True)\n",
        "fig.coast(resolution='f',shorelines='1p')\n",
        "fig.colorbar(frame='af+l\"topography [m]\"')\n",
        "fig.show()"
      ]
    },
    {
      "cell_type": "code",
      "execution_count": null,
      "metadata": {
        "id": "R9kpifmQPtRw"
      },
      "outputs": [],
      "source": [
        "topo_plain = vd.project_grid(topography, projection=projection)\n",
        "topo_plain"
      ]
    },
    {
      "cell_type": "markdown",
      "metadata": {
        "id": "Eauy4hf0HEhq"
      },
      "source": [
        "## **Koreksi Bouguer**\n",
        "\n",
        "---\n",
        "\n"
      ]
    },
    {
      "cell_type": "markdown",
      "metadata": {
        "id": "QtZzkPaEXgQL"
      },
      "source": [
        "1. Menghitung nilai koreksi Bouguer di setiap data titik. Nilai densitas yang digunakan adalah 2670 kg/m^3"
      ]
    },
    {
      "cell_type": "code",
      "execution_count": null,
      "metadata": {
        "id": "IzHsFVy9XiFu"
      },
      "outputs": [],
      "source": [
        "bouguer_correction = hm.bouguer_correction(data.elevation)\n",
        "data[\"bouguer_corr\"] = bouguer_correction\n",
        "data\n"
      ]
    },
    {
      "cell_type": "markdown",
      "metadata": {
        "id": "wOw9yS_Sv0TU"
      },
      "source": [
        "2. Menghitung nilai Anomali Bouguer Sederhana / Simple Bouguer Anomaly (SBA)"
      ]
    },
    {
      "cell_type": "code",
      "execution_count": null,
      "metadata": {
        "id": "KQ7Tm0YSv3-C"
      },
      "outputs": [],
      "source": [
        "data[\"bouguer_anomaly\"] = data.FAA - bouguer_correction\n",
        "data"
      ]
    },
    {
      "cell_type": "markdown",
      "metadata": {
        "id": "2RA-ymd5v_fT"
      },
      "source": [
        "3. Plot peta SBA."
      ]
    },
    {
      "cell_type": "code",
      "execution_count": null,
      "metadata": {
        "id": "TdmDGbtAwLVU"
      },
      "outputs": [],
      "source": [
        "fig = pygmt.Figure()\n",
        "pygmt.makecpt(cmap=\"seis\", series=[data.bouguer_anomaly.min(), data.bouguer_anomaly.max()])\n",
        "fig.plot(\n",
        "    x=data.longitude,\n",
        "    y=data.latitude,\n",
        "    color=data.bouguer_anomaly,\n",
        "    cmap=True,\n",
        "    style=\"c4p\",\n",
        "    projection=\"M15c\",\n",
        "    frame=True,\n",
        ")\n",
        "fig.coast(resolution='f',shorelines='1p')\n",
        "fig.colorbar(frame='af+l\"simple bouguer anomaly [mGal]\"')\n",
        "fig.show()"
      ]
    },
    {
      "cell_type": "markdown",
      "metadata": {
        "id": "cCIMWbcPw0i1"
      },
      "source": [
        "## **Pemisahan Anomali Regional-Residual**\n",
        "\n",
        "---\n",
        "\n"
      ]
    },
    {
      "cell_type": "markdown",
      "metadata": {
        "id": "xXnE32W7xEoy"
      },
      "source": [
        "1. Pemisahan anomali regional-residual pada latihan ini menggunakan metode polinomial 2D"
      ]
    },
    {
      "cell_type": "code",
      "execution_count": null,
      "metadata": {
        "id": "qXgM2_ORw6mB"
      },
      "outputs": [],
      "source": [
        "coordinates = (data.longitude, data.latitude)\n",
        "trend = vd.Trend(degree=3).fit(coordinates, data.bouguer_anomaly)\n",
        "\n",
        "data[\"regional_anomaly\"] = trend.predict(coordinates)\n",
        "data[\"residual_anomaly\"] = data.bouguer_anomaly - trend.predict(coordinates)\n",
        "data"
      ]
    },
    {
      "cell_type": "markdown",
      "source": [
        "2. Plot peta anomali regional."
      ],
      "metadata": {
        "id": "y5ujGdRcMMdL"
      }
    },
    {
      "cell_type": "code",
      "source": [
        "fig = pygmt.Figure()\n",
        "pygmt.makecpt(cmap=\"seis\", series=[data.regional_anomaly.min(), data.regional_anomaly.max()])\n",
        "fig.plot(\n",
        "    x=data.longitude,\n",
        "    y=data.latitude,\n",
        "    color=data.regional_anomaly,\n",
        "    cmap=True,\n",
        "    style=\"c4p\",\n",
        "    projection=\"M15c\",\n",
        "    frame=True,\n",
        ")\n",
        "fig.coast(resolution='f',shorelines='1p')\n",
        "fig.colorbar(frame='af+l\"regional anomaly [mGal]\"')\n",
        "fig.show()"
      ],
      "metadata": {
        "id": "Kl4PCr5OMTBT"
      },
      "execution_count": null,
      "outputs": []
    },
    {
      "cell_type": "markdown",
      "metadata": {
        "id": "eDTJvvd0xUyc"
      },
      "source": [
        "2. Plot peta anomali residual."
      ]
    },
    {
      "cell_type": "code",
      "execution_count": null,
      "metadata": {
        "id": "aShwPSgNzZeR"
      },
      "outputs": [],
      "source": [
        "fig = pygmt.Figure()\n",
        "pygmt.makecpt(cmap=\"seis\", series=[data.residual_anomaly.min(), data.residual_anomaly.max()])\n",
        "fig.plot(\n",
        "    x=data.longitude,\n",
        "    y=data.latitude,\n",
        "    color=data.residual_anomaly,\n",
        "    cmap=True,\n",
        "    style=\"c4p\",\n",
        "    projection=\"M15c\",\n",
        "    frame=True,\n",
        ")\n",
        "fig.coast(resolution='f',shorelines='1p')\n",
        "fig.colorbar(frame='af+l\"residual anomaly [mGal]\"')\n",
        "fig.show()"
      ]
    },
    {
      "cell_type": "markdown",
      "source": [
        "### Daftar Pustaka"
      ],
      "metadata": {
        "id": "JUBZ_H-qMtQf"
      }
    },
    {
      "cell_type": "markdown",
      "source": [
        "Uieda, L., V. C. Oliveira Jr, and V. C. F. Barbosa (2013), Modeling the Earth with Fatiando a Terra, Proceedings of the 12th Python in Science Conference, pp. 91-98. doi:10.25080/Majora-8b375195-010.\n",
        "\n"
      ],
      "metadata": {
        "id": "mwmMlfdLMyqu"
      }
    },
    {
      "cell_type": "markdown",
      "source": [
        "Uieda, L., Tian, D., Leong, W. J., Schlitzer, W., Grund, M., Jones, M., Fröhlich, Y., Toney, L., Yao, J., Magen, Y., Tong, JH., Materna, K., Belem, A., Newton, T., Anant, A., Ziebarth, M., Quinn, J., and Wessel, P. (2023). PyGMT: A Python interface for the Generic Mapping Tools (Version 0.9.0). doi:10.5281/zenodo.7772533."
      ],
      "metadata": {
        "id": "vAsxViXCM645"
      }
    }
  ],
  "metadata": {
    "colab": {
      "provenance": [],
      "include_colab_link": true
    },
    "kernelspec": {
      "display_name": "Python 3",
      "name": "python3"
    },
    "language_info": {
      "name": "python"
    }
  },
  "nbformat": 4,
  "nbformat_minor": 0
}